{
  "nbformat": 4,
  "nbformat_minor": 0,
  "metadata": {
    "colab": {
      "provenance": [],
      "authorship_tag": "ABX9TyOQooiCgLXZZdINI8TLAqY3",
      "include_colab_link": true
    },
    "kernelspec": {
      "name": "python3",
      "display_name": "Python 3"
    },
    "language_info": {
      "name": "python"
    }
  },
  "cells": [
    {
      "cell_type": "markdown",
      "metadata": {
        "id": "view-in-github",
        "colab_type": "text"
      },
      "source": [
        "<a href=\"https://colab.research.google.com/github/Slaha97/Python-Projects/blob/main/Strings_Formatting.ipynb\" target=\"_parent\"><img src=\"https://colab.research.google.com/assets/colab-badge.svg\" alt=\"Open In Colab\"/></a>"
      ]
    },
    {
      "cell_type": "code",
      "execution_count": 17,
      "metadata": {
        "colab": {
          "base_uri": "https://localhost:8080/"
        },
        "id": "ICVM4LFjHQ-Z",
        "outputId": "d3dab5e4-4f41-47d7-8d61-cf2d6589b853"
      },
      "outputs": [
        {
          "output_type": "stream",
          "name": "stdout",
          "text": [
            "My name is Subham laha\n"
          ]
        }
      ],
      "source": [
        "my_name = 'Subham laha'\n",
        "print('My name is '+my_name)  #string interpolation"
      ]
    },
    {
      "cell_type": "markdown",
      "source": [
        "String Formatting using .format()"
      ],
      "metadata": {
        "id": "qBXObh_GJNYd"
      }
    },
    {
      "cell_type": "code",
      "source": [
        "print('My name is {} {}'.format('Subham','Laha'))  #string interpolation using .format()"
      ],
      "metadata": {
        "colab": {
          "base_uri": "https://localhost:8080/"
        },
        "id": "NA9B7AksJRuc",
        "outputId": "84fc13ab-c8d5-45d6-b384-7bd00ed6584c"
      },
      "execution_count": 18,
      "outputs": [
        {
          "output_type": "stream",
          "name": "stdout",
          "text": [
            "My name is Subham Laha\n"
          ]
        }
      ]
    },
    {
      "cell_type": "code",
      "source": [
        "print('My name is {0} {1}'.format('Subham','Laha'))  #string interpolation using .format()"
      ],
      "metadata": {
        "colab": {
          "base_uri": "https://localhost:8080/"
        },
        "id": "r4XAOUCIJ11D",
        "outputId": "4325226b-90fe-452b-fdcd-18182a5d2ab4"
      },
      "execution_count": 19,
      "outputs": [
        {
          "output_type": "stream",
          "name": "stdout",
          "text": [
            "My name is Subham Laha\n"
          ]
        }
      ]
    },
    {
      "cell_type": "code",
      "source": [
        "print('My name is {1} {0}'.format('Laha','Subham'))  #string interpolation using .format()"
      ],
      "metadata": {
        "colab": {
          "base_uri": "https://localhost:8080/"
        },
        "id": "PR0LofE1J-vc",
        "outputId": "3883be1a-cf44-4d90-c45e-97215969c030"
      },
      "execution_count": 20,
      "outputs": [
        {
          "output_type": "stream",
          "name": "stdout",
          "text": [
            "My name is Subham Laha\n"
          ]
        }
      ]
    },
    {
      "cell_type": "code",
      "source": [
        "print('My name is {1} {1}'.format('Laha','Subham'))  #string interpolation using .format()"
      ],
      "metadata": {
        "colab": {
          "base_uri": "https://localhost:8080/"
        },
        "id": "dFoOxkboKEsk",
        "outputId": "3e7b7b22-40e0-487f-ea28-852ca25e19d7"
      },
      "execution_count": 21,
      "outputs": [
        {
          "output_type": "stream",
          "name": "stdout",
          "text": [
            "My name is Subham Subham\n"
          ]
        }
      ]
    },
    {
      "cell_type": "code",
      "source": [
        "print('My name is {s} {l}'.format(l='Laha',s='Subham'))  #string interpolation using .format()"
      ],
      "metadata": {
        "colab": {
          "base_uri": "https://localhost:8080/"
        },
        "id": "2wshphATLilm",
        "outputId": "0e56fb6d-1c14-48b7-e1a9-9f0fd7bb86f0"
      },
      "execution_count": 22,
      "outputs": [
        {
          "output_type": "stream",
          "name": "stdout",
          "text": [
            "My name is Subham Laha\n"
          ]
        }
      ]
    },
    {
      "cell_type": "code",
      "source": [
        "print('My name is {s} {s}'.format(l='Laha',s='Subham'))  #string interpolation using .format()"
      ],
      "metadata": {
        "colab": {
          "base_uri": "https://localhost:8080/"
        },
        "id": "CCdLmmOJLnVd",
        "outputId": "be36aed6-8784-4a8e-9913-0907c6466892"
      },
      "execution_count": 23,
      "outputs": [
        {
          "output_type": "stream",
          "name": "stdout",
          "text": [
            "My name is Subham Subham\n"
          ]
        }
      ]
    },
    {
      "cell_type": "code",
      "source": [
        "result = 10/3\n",
        "print('The result is {r}'.format(r=result))  #string interpolation using .format()"
      ],
      "metadata": {
        "colab": {
          "base_uri": "https://localhost:8080/"
        },
        "id": "OSzgLZWtLsM0",
        "outputId": "996394fe-274d-41d1-b74e-64d72444d1fd"
      },
      "execution_count": 24,
      "outputs": [
        {
          "output_type": "stream",
          "name": "stdout",
          "text": [
            "The result is 3.3333333333333335\n"
          ]
        }
      ]
    },
    {
      "cell_type": "code",
      "source": [
        "result = 10/3\n",
        "print('The result is {r:1.3f}'.format(r=result))  #.format()  with 1 place before decimal and 3 places after decimal(precision)"
      ],
      "metadata": {
        "colab": {
          "base_uri": "https://localhost:8080/"
        },
        "id": "ez2EwakRMI1U",
        "outputId": "6d5d7fdf-a3b1-47c1-e358-728037a007d5"
      },
      "execution_count": 25,
      "outputs": [
        {
          "output_type": "stream",
          "name": "stdout",
          "text": [
            "The result is 3.333\n"
          ]
        }
      ]
    },
    {
      "cell_type": "markdown",
      "source": [
        "String Formatting using f-strings"
      ],
      "metadata": {
        "id": "tNdAyjN_a-NV"
      }
    },
    {
      "cell_type": "code",
      "source": [
        "my_name = 'Subham laha'\n",
        "print(f'My name is {my_name}')"
      ],
      "metadata": {
        "id": "BTSePcGVMQy0",
        "colab": {
          "base_uri": "https://localhost:8080/"
        },
        "outputId": "37bd3c81-b51e-47a7-94e5-86890fcddce7"
      },
      "execution_count": 26,
      "outputs": [
        {
          "output_type": "stream",
          "name": "stdout",
          "text": [
            "My name is Subham laha\n"
          ]
        }
      ]
    },
    {
      "cell_type": "code",
      "source": [
        "age = 26\n",
        "print(f'{my_name} is {age} years old')"
      ],
      "metadata": {
        "colab": {
          "base_uri": "https://localhost:8080/"
        },
        "id": "ZHjbCFgWbmSF",
        "outputId": "14a092a5-1596-4501-f03f-565b18275bce"
      },
      "execution_count": 27,
      "outputs": [
        {
          "output_type": "stream",
          "name": "stdout",
          "text": [
            "Subham laha is 26 years old\n"
          ]
        }
      ]
    }
  ]
}